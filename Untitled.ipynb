{
 "cells": [
  {
   "cell_type": "markdown",
   "id": "92addea3-272b-48ad-97be-83a8a7cbc1f7",
   "metadata": {},
   "source": [
    "# load packages and libraries"
   ]
  },
  {
   "cell_type": "code",
   "execution_count": 1,
   "id": "40a7429b-7e2d-4501-af10-372a247ec9d5",
   "metadata": {},
   "outputs": [],
   "source": [
    "import pandas as pd \n",
    "import numpy as np \n",
    "import matplotlib.pyplot as plt\n",
    "import seaborn as sns\n",
    "\n",
    "\n",
    "from sklearn.metrics.pairwise import cosine_similarity \n",
    "from sklearn.feature_extraction.text import TfidfVectorizer\n",
    "\n",
    "import os \n",
    "from scipy.sparse import coo_matrix"
   ]
  },
  {
   "cell_type": "markdown",
   "id": "d0edaa8a-30b9-441a-9db2-b4f7cd0af569",
   "metadata": {},
   "source": [
    "# data loading preprocessing"
   ]
  },
  {
   "cell_type": "code",
   "execution_count": 2,
   "id": "84e7d99a-9989-4e91-8843-a6d0d37290bc",
   "metadata": {},
   "outputs": [
    {
     "data": {
      "text/plain": [
       "Index(['Uniq Id', 'Crawl Timestamp', 'Dataset Origin', 'Product Id',\n",
       "       'Product Barcode', 'Product Company Type Source',\n",
       "       'Product Brand Source', 'Product Brand Normalised Source',\n",
       "       'Product Name Source', 'Match Rank', 'Match Score', 'Match Type',\n",
       "       'Retailer', 'Product Category', 'Product Brand', 'Product Name',\n",
       "       'Product Price', 'Sku', 'Upc', 'Product Url', 'Market',\n",
       "       'Product Description', 'Product Currency',\n",
       "       'Product Available Inventory', 'Product Image Url',\n",
       "       'Product Model Number', 'Product Tags', 'Product Contents',\n",
       "       'Product Rating', 'Product Reviews Count', 'Bsr', 'Joining Key'],\n",
       "      dtype='object')"
      ]
     },
     "execution_count": 2,
     "metadata": {},
     "output_type": "execute_result"
    }
   ],
   "source": [
    "train_data = pd.read_csv('marketing_sample_for_walmart_com-walmart_com_product_review__20200701_20201231__5k_data.tsv', sep='\\t')\n",
    "train_data.columns"
   ]
  },
  {
   "cell_type": "code",
   "execution_count": 3,
   "id": "db563f81-5c01-4d5f-8259-801e4d93021c",
   "metadata": {},
   "outputs": [
    {
     "data": {
      "text/html": [
       "<div>\n",
       "<style scoped>\n",
       "    .dataframe tbody tr th:only-of-type {\n",
       "        vertical-align: middle;\n",
       "    }\n",
       "\n",
       "    .dataframe tbody tr th {\n",
       "        vertical-align: top;\n",
       "    }\n",
       "\n",
       "    .dataframe thead th {\n",
       "        text-align: right;\n",
       "    }\n",
       "</style>\n",
       "<table border=\"1\" class=\"dataframe\">\n",
       "  <thead>\n",
       "    <tr style=\"text-align: right;\">\n",
       "      <th></th>\n",
       "      <th>Uniq Id</th>\n",
       "      <th>Crawl Timestamp</th>\n",
       "      <th>Dataset Origin</th>\n",
       "      <th>Product Id</th>\n",
       "      <th>Product Barcode</th>\n",
       "      <th>Product Company Type Source</th>\n",
       "      <th>Product Brand Source</th>\n",
       "      <th>Product Brand Normalised Source</th>\n",
       "      <th>Product Name Source</th>\n",
       "      <th>Match Rank</th>\n",
       "      <th>...</th>\n",
       "      <th>Product Currency</th>\n",
       "      <th>Product Available Inventory</th>\n",
       "      <th>Product Image Url</th>\n",
       "      <th>Product Model Number</th>\n",
       "      <th>Product Tags</th>\n",
       "      <th>Product Contents</th>\n",
       "      <th>Product Rating</th>\n",
       "      <th>Product Reviews Count</th>\n",
       "      <th>Bsr</th>\n",
       "      <th>Joining Key</th>\n",
       "    </tr>\n",
       "  </thead>\n",
       "  <tbody>\n",
       "    <tr>\n",
       "      <th>0</th>\n",
       "      <td>1705736792d82aa2f2d3caf1c07c53f4</td>\n",
       "      <td>2020-09-24 03:21:12 +0000</td>\n",
       "      <td>NaN</td>\n",
       "      <td>2e17bf4acecdece67fc00f07ad62c910</td>\n",
       "      <td>NaN</td>\n",
       "      <td>Competitor</td>\n",
       "      <td>NaN</td>\n",
       "      <td>NaN</td>\n",
       "      <td>NaN</td>\n",
       "      <td>NaN</td>\n",
       "      <td>...</td>\n",
       "      <td>USD</td>\n",
       "      <td>111111111</td>\n",
       "      <td>https://i5.walmartimages.com/asr/0e1f4c51-c1a4...</td>\n",
       "      <td>NaN</td>\n",
       "      <td>OPI Infinite Shine, Nail Lacquer Nail Polish, ...</td>\n",
       "      <td>NaN</td>\n",
       "      <td>NaN</td>\n",
       "      <td>NaN</td>\n",
       "      <td>NaN</td>\n",
       "      <td>81350af1be98d3753cf964709f0c766a</td>\n",
       "    </tr>\n",
       "    <tr>\n",
       "      <th>1</th>\n",
       "      <td>95a9fe6f4810fcfc7ff244fd06784f11</td>\n",
       "      <td>2020-10-30 14:04:08 +0000</td>\n",
       "      <td>NaN</td>\n",
       "      <td>076e5854a62dd283c253d6bae415af1f</td>\n",
       "      <td>NaN</td>\n",
       "      <td>Competitor</td>\n",
       "      <td>NaN</td>\n",
       "      <td>NaN</td>\n",
       "      <td>NaN</td>\n",
       "      <td>NaN</td>\n",
       "      <td>...</td>\n",
       "      <td>USD</td>\n",
       "      <td>111111111</td>\n",
       "      <td>https://i5.walmartimages.com/asr/9c8e42e4-13a5...</td>\n",
       "      <td>NaN</td>\n",
       "      <td>Nice 'n Easy Permanent Color, 111 Natural Medi...</td>\n",
       "      <td>NaN</td>\n",
       "      <td>NaN</td>\n",
       "      <td>NaN</td>\n",
       "      <td>NaN</td>\n",
       "      <td>0353e63907dc0de0c734db4690300057</td>\n",
       "    </tr>\n",
       "  </tbody>\n",
       "</table>\n",
       "<p>2 rows × 32 columns</p>\n",
       "</div>"
      ],
      "text/plain": [
       "                            Uniq Id            Crawl Timestamp  \\\n",
       "0  1705736792d82aa2f2d3caf1c07c53f4  2020-09-24 03:21:12 +0000   \n",
       "1  95a9fe6f4810fcfc7ff244fd06784f11  2020-10-30 14:04:08 +0000   \n",
       "\n",
       "   Dataset Origin                        Product Id  Product Barcode  \\\n",
       "0             NaN  2e17bf4acecdece67fc00f07ad62c910              NaN   \n",
       "1             NaN  076e5854a62dd283c253d6bae415af1f              NaN   \n",
       "\n",
       "  Product Company Type Source Product Brand Source  \\\n",
       "0                  Competitor                  NaN   \n",
       "1                  Competitor                  NaN   \n",
       "\n",
       "  Product Brand Normalised Source Product Name Source  Match Rank  ...  \\\n",
       "0                             NaN                 NaN         NaN  ...   \n",
       "1                             NaN                 NaN         NaN  ...   \n",
       "\n",
       "   Product Currency  Product Available Inventory  \\\n",
       "0               USD                    111111111   \n",
       "1               USD                    111111111   \n",
       "\n",
       "                                   Product Image Url Product Model Number  \\\n",
       "0  https://i5.walmartimages.com/asr/0e1f4c51-c1a4...                  NaN   \n",
       "1  https://i5.walmartimages.com/asr/9c8e42e4-13a5...                  NaN   \n",
       "\n",
       "                                        Product Tags Product Contents  \\\n",
       "0  OPI Infinite Shine, Nail Lacquer Nail Polish, ...              NaN   \n",
       "1  Nice 'n Easy Permanent Color, 111 Natural Medi...              NaN   \n",
       "\n",
       "   Product Rating  Product Reviews Count  Bsr  \\\n",
       "0             NaN                    NaN  NaN   \n",
       "1             NaN                    NaN  NaN   \n",
       "\n",
       "                        Joining Key  \n",
       "0  81350af1be98d3753cf964709f0c766a  \n",
       "1  0353e63907dc0de0c734db4690300057  \n",
       "\n",
       "[2 rows x 32 columns]"
      ]
     },
     "execution_count": 3,
     "metadata": {},
     "output_type": "execute_result"
    }
   ],
   "source": [
    "train_data.head(2)"
   ]
  },
  {
   "cell_type": "code",
   "execution_count": 4,
   "id": "5a5c3376-de60-427c-a20a-ae687c8ef305",
   "metadata": {},
   "outputs": [
    {
     "data": {
      "text/plain": [
       "0       OPI Infinite Shine, Nail Lacquer Nail Polish, ...\n",
       "1       Nice 'n Easy Permanent Color, 111 Natural Medi...\n",
       "2       Clairol Nice 'N Easy Permanent Color 7/106A Na...\n",
       "3       Kokie Professional Matte Lipstick, Hot Berry, ...\n",
       "4       Gillette TRAC II Plus Razor Blade Refills, Fit...\n",
       "                              ...                        \n",
       "4995    Garden Mint Room Spray (Double Strength), 4 ou...\n",
       "4996    Garnier Nutrisse Nourishing Hair Color Creme (...\n",
       "4997    Nail File Electric Drill, 6 in 1 Professional ...\n",
       "4998    Creed Love In Black Hair And Body Wash 6.8oz/2...\n",
       "4999                    Foundation, Wal-mart, Walmart.com\n",
       "Name: Product Tags, Length: 5000, dtype: object"
      ]
     },
     "execution_count": 4,
     "metadata": {},
     "output_type": "execute_result"
    }
   ],
   "source": [
    "train_data['Product Tags']"
   ]
  },
  {
   "cell_type": "code",
   "execution_count": 5,
   "id": "69428f30-8650-4b20-81a4-0a9becb46caa",
   "metadata": {},
   "outputs": [
    {
     "data": {
      "text/plain": [
       "(5000, 32)"
      ]
     },
     "execution_count": 5,
     "metadata": {},
     "output_type": "execute_result"
    }
   ],
   "source": [
    "train_data.shape"
   ]
  },
  {
   "cell_type": "code",
   "execution_count": 6,
   "id": "e063d202-6c57-475c-8436-6af63caa30e4",
   "metadata": {},
   "outputs": [
    {
     "data": {
      "text/plain": [
       "Uniq Id                               0\n",
       "Crawl Timestamp                       0\n",
       "Dataset Origin                     5000\n",
       "Product Id                            0\n",
       "Product Barcode                    5000\n",
       "Product Company Type Source           0\n",
       "Product Brand Source               4861\n",
       "Product Brand Normalised Source    4861\n",
       "Product Name Source                4861\n",
       "Match Rank                         5000\n",
       "Match Score                        5000\n",
       "Match Type                         5000\n",
       "Retailer                              0\n",
       "Product Category                     10\n",
       "Product Brand                        13\n",
       "Product Name                          0\n",
       "Product Price                        42\n",
       "Sku                                5000\n",
       "Upc                                5000\n",
       "Product Url                           0\n",
       "Market                                0\n",
       "Product Description                1127\n",
       "Product Currency                      0\n",
       "Product Available Inventory           0\n",
       "Product Image Url                     0\n",
       "Product Model Number               5000\n",
       "Product Tags                          0\n",
       "Product Contents                   5000\n",
       "Product Rating                     2806\n",
       "Product Reviews Count              1654\n",
       "Bsr                                5000\n",
       "Joining Key                           0\n",
       "dtype: int64"
      ]
     },
     "execution_count": 6,
     "metadata": {},
     "output_type": "execute_result"
    }
   ],
   "source": [
    "train_data.isnull().sum()"
   ]
  },
  {
   "cell_type": "code",
   "execution_count": 7,
   "id": "7ba92be9-0850-43d4-a690-c38078ef7f6a",
   "metadata": {},
   "outputs": [
    {
     "data": {
      "text/html": [
       "<div>\n",
       "<style scoped>\n",
       "    .dataframe tbody tr th:only-of-type {\n",
       "        vertical-align: middle;\n",
       "    }\n",
       "\n",
       "    .dataframe tbody tr th {\n",
       "        vertical-align: top;\n",
       "    }\n",
       "\n",
       "    .dataframe thead th {\n",
       "        text-align: right;\n",
       "    }\n",
       "</style>\n",
       "<table border=\"1\" class=\"dataframe\">\n",
       "  <thead>\n",
       "    <tr style=\"text-align: right;\">\n",
       "      <th></th>\n",
       "      <th>Uniq Id</th>\n",
       "      <th>Product Id</th>\n",
       "      <th>Product Rating</th>\n",
       "      <th>Product Reviews Count</th>\n",
       "      <th>Product Category</th>\n",
       "      <th>Product Brand</th>\n",
       "      <th>Product Name</th>\n",
       "      <th>Product Image Url</th>\n",
       "      <th>Product Description</th>\n",
       "      <th>Product Tags</th>\n",
       "    </tr>\n",
       "  </thead>\n",
       "  <tbody>\n",
       "    <tr>\n",
       "      <th>0</th>\n",
       "      <td>1705736792d82aa2f2d3caf1c07c53f4</td>\n",
       "      <td>2e17bf4acecdece67fc00f07ad62c910</td>\n",
       "      <td>NaN</td>\n",
       "      <td>NaN</td>\n",
       "      <td>Premium Beauty &gt; Premium Makeup &gt; Premium Nail...</td>\n",
       "      <td>OPI</td>\n",
       "      <td>OPI Infinite Shine, Nail Lacquer Nail Polish, ...</td>\n",
       "      <td>https://i5.walmartimages.com/asr/0e1f4c51-c1a4...</td>\n",
       "      <td>NaN</td>\n",
       "      <td>OPI Infinite Shine, Nail Lacquer Nail Polish, ...</td>\n",
       "    </tr>\n",
       "    <tr>\n",
       "      <th>1</th>\n",
       "      <td>95a9fe6f4810fcfc7ff244fd06784f11</td>\n",
       "      <td>076e5854a62dd283c253d6bae415af1f</td>\n",
       "      <td>NaN</td>\n",
       "      <td>NaN</td>\n",
       "      <td>Beauty &gt; Hair Care &gt; Hair Color &gt; Auburn Hair ...</td>\n",
       "      <td>Nice'n Easy</td>\n",
       "      <td>Nice n Easy Permanent Color, 111 Natural Mediu...</td>\n",
       "      <td>https://i5.walmartimages.com/asr/9c8e42e4-13a5...</td>\n",
       "      <td>Pack of 3 Pack of 3 for the UPC: 381519000201 ...</td>\n",
       "      <td>Nice 'n Easy Permanent Color, 111 Natural Medi...</td>\n",
       "    </tr>\n",
       "  </tbody>\n",
       "</table>\n",
       "</div>"
      ],
      "text/plain": [
       "                            Uniq Id                        Product Id  \\\n",
       "0  1705736792d82aa2f2d3caf1c07c53f4  2e17bf4acecdece67fc00f07ad62c910   \n",
       "1  95a9fe6f4810fcfc7ff244fd06784f11  076e5854a62dd283c253d6bae415af1f   \n",
       "\n",
       "   Product Rating  Product Reviews Count  \\\n",
       "0             NaN                    NaN   \n",
       "1             NaN                    NaN   \n",
       "\n",
       "                                    Product Category Product Brand  \\\n",
       "0  Premium Beauty > Premium Makeup > Premium Nail...           OPI   \n",
       "1  Beauty > Hair Care > Hair Color > Auburn Hair ...   Nice'n Easy   \n",
       "\n",
       "                                        Product Name  \\\n",
       "0  OPI Infinite Shine, Nail Lacquer Nail Polish, ...   \n",
       "1  Nice n Easy Permanent Color, 111 Natural Mediu...   \n",
       "\n",
       "                                   Product Image Url  \\\n",
       "0  https://i5.walmartimages.com/asr/0e1f4c51-c1a4...   \n",
       "1  https://i5.walmartimages.com/asr/9c8e42e4-13a5...   \n",
       "\n",
       "                                 Product Description  \\\n",
       "0                                                NaN   \n",
       "1  Pack of 3 Pack of 3 for the UPC: 381519000201 ...   \n",
       "\n",
       "                                        Product Tags  \n",
       "0  OPI Infinite Shine, Nail Lacquer Nail Polish, ...  \n",
       "1  Nice 'n Easy Permanent Color, 111 Natural Medi...  "
      ]
     },
     "execution_count": 7,
     "metadata": {},
     "output_type": "execute_result"
    }
   ],
   "source": [
    "train_data = train_data[['Uniq Id','Product Id', 'Product Rating', 'Product Reviews Count',\n",
    "                        'Product Category', 'Product Brand', 'Product Name', 'Product Image Url', 'Product Description','Product Tags']]\n",
    "\n",
    "train_data.head(2)\n"
   ]
  },
  {
   "cell_type": "code",
   "execution_count": 8,
   "id": "dc1c77ed-1b81-40ad-a57a-2d5828ac42c4",
   "metadata": {},
   "outputs": [
    {
     "data": {
      "text/plain": [
       "Uniq Id                     0\n",
       "Product Id                  0\n",
       "Product Rating           2806\n",
       "Product Reviews Count    1654\n",
       "Product Category           10\n",
       "Product Brand              13\n",
       "Product Name                0\n",
       "Product Image Url           0\n",
       "Product Description      1127\n",
       "Product Tags                0\n",
       "dtype: int64"
      ]
     },
     "execution_count": 8,
     "metadata": {},
     "output_type": "execute_result"
    }
   ],
   "source": [
    "train_data.isnull().sum()"
   ]
  },
  {
   "cell_type": "code",
   "execution_count": 9,
   "id": "58065210-9464-4dc5-b4cf-5a7e48518400",
   "metadata": {},
   "outputs": [
    {
     "name": "stderr",
     "output_type": "stream",
     "text": [
      "C:\\Users\\oknol\\AppData\\Local\\Temp\\ipykernel_5784\\2109049505.py:1: FutureWarning: A value is trying to be set on a copy of a DataFrame or Series through chained assignment using an inplace method.\n",
      "The behavior will change in pandas 3.0. This inplace method will never work because the intermediate object on which we are setting values always behaves as a copy.\n",
      "\n",
      "For example, when doing 'df[col].method(value, inplace=True)', try using 'df.method({col: value}, inplace=True)' or df[col] = df[col].method(value) instead, to perform the operation inplace on the original object.\n",
      "\n",
      "\n",
      "  train_data['Product Rating'].fillna(0, inplace=True)\n",
      "C:\\Users\\oknol\\AppData\\Local\\Temp\\ipykernel_5784\\2109049505.py:2: FutureWarning: A value is trying to be set on a copy of a DataFrame or Series through chained assignment using an inplace method.\n",
      "The behavior will change in pandas 3.0. This inplace method will never work because the intermediate object on which we are setting values always behaves as a copy.\n",
      "\n",
      "For example, when doing 'df[col].method(value, inplace=True)', try using 'df.method({col: value}, inplace=True)' or df[col] = df[col].method(value) instead, to perform the operation inplace on the original object.\n",
      "\n",
      "\n",
      "  train_data['Product Reviews Count'].fillna(0, inplace=True)\n",
      "C:\\Users\\oknol\\AppData\\Local\\Temp\\ipykernel_5784\\2109049505.py:3: FutureWarning: A value is trying to be set on a copy of a DataFrame or Series through chained assignment using an inplace method.\n",
      "The behavior will change in pandas 3.0. This inplace method will never work because the intermediate object on which we are setting values always behaves as a copy.\n",
      "\n",
      "For example, when doing 'df[col].method(value, inplace=True)', try using 'df.method({col: value}, inplace=True)' or df[col] = df[col].method(value) instead, to perform the operation inplace on the original object.\n",
      "\n",
      "\n",
      "  train_data['Product Category'].fillna('', inplace=True)\n",
      "C:\\Users\\oknol\\AppData\\Local\\Temp\\ipykernel_5784\\2109049505.py:4: FutureWarning: A value is trying to be set on a copy of a DataFrame or Series through chained assignment using an inplace method.\n",
      "The behavior will change in pandas 3.0. This inplace method will never work because the intermediate object on which we are setting values always behaves as a copy.\n",
      "\n",
      "For example, when doing 'df[col].method(value, inplace=True)', try using 'df.method({col: value}, inplace=True)' or df[col] = df[col].method(value) instead, to perform the operation inplace on the original object.\n",
      "\n",
      "\n",
      "  train_data['Product Brand'].fillna('', inplace=True)\n",
      "C:\\Users\\oknol\\AppData\\Local\\Temp\\ipykernel_5784\\2109049505.py:5: FutureWarning: A value is trying to be set on a copy of a DataFrame or Series through chained assignment using an inplace method.\n",
      "The behavior will change in pandas 3.0. This inplace method will never work because the intermediate object on which we are setting values always behaves as a copy.\n",
      "\n",
      "For example, when doing 'df[col].method(value, inplace=True)', try using 'df.method({col: value}, inplace=True)' or df[col] = df[col].method(value) instead, to perform the operation inplace on the original object.\n",
      "\n",
      "\n",
      "  train_data['Product Description'].fillna('', inplace=True)\n"
     ]
    }
   ],
   "source": [
    "train_data['Product Rating'].fillna(0, inplace=True)\n",
    "train_data['Product Reviews Count'].fillna(0, inplace=True)\n",
    "train_data['Product Category'].fillna('', inplace=True)\n",
    "train_data['Product Brand'].fillna('', inplace=True)\n",
    "train_data['Product Description'].fillna('', inplace=True)"
   ]
  },
  {
   "cell_type": "code",
   "execution_count": 10,
   "id": "53cbcf05-c0c2-4851-830e-db090fdbde32",
   "metadata": {},
   "outputs": [
    {
     "data": {
      "text/plain": [
       "Uniq Id                  0\n",
       "Product Id               0\n",
       "Product Rating           0\n",
       "Product Reviews Count    0\n",
       "Product Category         0\n",
       "Product Brand            0\n",
       "Product Name             0\n",
       "Product Image Url        0\n",
       "Product Description      0\n",
       "Product Tags             0\n",
       "dtype: int64"
      ]
     },
     "execution_count": 10,
     "metadata": {},
     "output_type": "execute_result"
    }
   ],
   "source": [
    "train_data.isnull().sum()"
   ]
  },
  {
   "cell_type": "code",
   "execution_count": 11,
   "id": "4f783c7b-72aa-40c7-b6d7-a4dd0f519f5e",
   "metadata": {},
   "outputs": [
    {
     "data": {
      "text/plain": [
       "0"
      ]
     },
     "execution_count": 11,
     "metadata": {},
     "output_type": "execute_result"
    }
   ],
   "source": [
    "train_data.duplicated().sum()"
   ]
  },
  {
   "cell_type": "code",
   "execution_count": 12,
   "id": "d6b595b5-667b-4616-baa4-fed600f7774d",
   "metadata": {},
   "outputs": [
    {
     "data": {
      "text/plain": [
       "Index(['Uniq Id', 'Product Id', 'Product Rating', 'Product Reviews Count',\n",
       "       'Product Category', 'Product Brand', 'Product Name',\n",
       "       'Product Image Url', 'Product Description', 'Product Tags'],\n",
       "      dtype='object')"
      ]
     },
     "execution_count": 12,
     "metadata": {},
     "output_type": "execute_result"
    }
   ],
   "source": [
    "train_data.columns"
   ]
  },
  {
   "cell_type": "code",
   "execution_count": 13,
   "id": "c2e2a3e5-5160-4426-8f75-3360f8feb693",
   "metadata": {},
   "outputs": [],
   "source": [
    "# to make shorter column name \n",
    "\n",
    "column_name_mapping = {\n",
    "    'Uniq Id':'ID', \n",
    "    'Product Id':'ProdID',\n",
    "    'Product Rating':'Rating',\n",
    "    'Product Reviews Count':'ReviewCount',\n",
    "    'Product Category':'Category',\n",
    "    'Product Brand':'Brand',\n",
    "    'Product Name':'Name',\n",
    "    'Product Image Url':'ImageURL',\n",
    "    'Product Description':'Description',\n",
    "    'Product Tags':'Tags',\n",
    "    'Product Contents':'Contents'\n",
    "}\n",
    "\n",
    "train_data.rename(columns=column_name_mapping, inplace=True)"
   ]
  },
  {
   "cell_type": "code",
   "execution_count": 14,
   "id": "421ed1e3-811b-4802-995e-984a3a64c42e",
   "metadata": {},
   "outputs": [
    {
     "data": {
      "text/html": [
       "<div>\n",
       "<style scoped>\n",
       "    .dataframe tbody tr th:only-of-type {\n",
       "        vertical-align: middle;\n",
       "    }\n",
       "\n",
       "    .dataframe tbody tr th {\n",
       "        vertical-align: top;\n",
       "    }\n",
       "\n",
       "    .dataframe thead th {\n",
       "        text-align: right;\n",
       "    }\n",
       "</style>\n",
       "<table border=\"1\" class=\"dataframe\">\n",
       "  <thead>\n",
       "    <tr style=\"text-align: right;\">\n",
       "      <th></th>\n",
       "      <th>ID</th>\n",
       "      <th>ProdID</th>\n",
       "      <th>Rating</th>\n",
       "      <th>ReviewCount</th>\n",
       "      <th>Category</th>\n",
       "      <th>Brand</th>\n",
       "      <th>Name</th>\n",
       "      <th>ImageURL</th>\n",
       "      <th>Description</th>\n",
       "      <th>Tags</th>\n",
       "    </tr>\n",
       "  </thead>\n",
       "  <tbody>\n",
       "    <tr>\n",
       "      <th>0</th>\n",
       "      <td>1705736792d82aa2f2d3caf1c07c53f4</td>\n",
       "      <td>2e17bf4acecdece67fc00f07ad62c910</td>\n",
       "      <td>0.0</td>\n",
       "      <td>0.0</td>\n",
       "      <td>Premium Beauty &gt; Premium Makeup &gt; Premium Nail...</td>\n",
       "      <td>OPI</td>\n",
       "      <td>OPI Infinite Shine, Nail Lacquer Nail Polish, ...</td>\n",
       "      <td>https://i5.walmartimages.com/asr/0e1f4c51-c1a4...</td>\n",
       "      <td></td>\n",
       "      <td>OPI Infinite Shine, Nail Lacquer Nail Polish, ...</td>\n",
       "    </tr>\n",
       "    <tr>\n",
       "      <th>1</th>\n",
       "      <td>95a9fe6f4810fcfc7ff244fd06784f11</td>\n",
       "      <td>076e5854a62dd283c253d6bae415af1f</td>\n",
       "      <td>0.0</td>\n",
       "      <td>0.0</td>\n",
       "      <td>Beauty &gt; Hair Care &gt; Hair Color &gt; Auburn Hair ...</td>\n",
       "      <td>Nice'n Easy</td>\n",
       "      <td>Nice n Easy Permanent Color, 111 Natural Mediu...</td>\n",
       "      <td>https://i5.walmartimages.com/asr/9c8e42e4-13a5...</td>\n",
       "      <td>Pack of 3 Pack of 3 for the UPC: 381519000201 ...</td>\n",
       "      <td>Nice 'n Easy Permanent Color, 111 Natural Medi...</td>\n",
       "    </tr>\n",
       "  </tbody>\n",
       "</table>\n",
       "</div>"
      ],
      "text/plain": [
       "                                 ID                            ProdID  Rating  \\\n",
       "0  1705736792d82aa2f2d3caf1c07c53f4  2e17bf4acecdece67fc00f07ad62c910     0.0   \n",
       "1  95a9fe6f4810fcfc7ff244fd06784f11  076e5854a62dd283c253d6bae415af1f     0.0   \n",
       "\n",
       "   ReviewCount                                           Category  \\\n",
       "0          0.0  Premium Beauty > Premium Makeup > Premium Nail...   \n",
       "1          0.0  Beauty > Hair Care > Hair Color > Auburn Hair ...   \n",
       "\n",
       "         Brand                                               Name  \\\n",
       "0          OPI  OPI Infinite Shine, Nail Lacquer Nail Polish, ...   \n",
       "1  Nice'n Easy  Nice n Easy Permanent Color, 111 Natural Mediu...   \n",
       "\n",
       "                                            ImageURL  \\\n",
       "0  https://i5.walmartimages.com/asr/0e1f4c51-c1a4...   \n",
       "1  https://i5.walmartimages.com/asr/9c8e42e4-13a5...   \n",
       "\n",
       "                                         Description  \\\n",
       "0                                                      \n",
       "1  Pack of 3 Pack of 3 for the UPC: 381519000201 ...   \n",
       "\n",
       "                                                Tags  \n",
       "0  OPI Infinite Shine, Nail Lacquer Nail Polish, ...  \n",
       "1  Nice 'n Easy Permanent Color, 111 Natural Medi...  "
      ]
     },
     "execution_count": 14,
     "metadata": {},
     "output_type": "execute_result"
    }
   ],
   "source": [
    "train_data.head(2)"
   ]
  },
  {
   "cell_type": "code",
   "execution_count": 15,
   "id": "14bd2651-9898-49a7-ac33-eff922cc5e55",
   "metadata": {},
   "outputs": [
    {
     "data": {
      "text/html": [
       "<div>\n",
       "<style scoped>\n",
       "    .dataframe tbody tr th:only-of-type {\n",
       "        vertical-align: middle;\n",
       "    }\n",
       "\n",
       "    .dataframe tbody tr th {\n",
       "        vertical-align: top;\n",
       "    }\n",
       "\n",
       "    .dataframe thead th {\n",
       "        text-align: right;\n",
       "    }\n",
       "</style>\n",
       "<table border=\"1\" class=\"dataframe\">\n",
       "  <thead>\n",
       "    <tr style=\"text-align: right;\">\n",
       "      <th></th>\n",
       "      <th>ID</th>\n",
       "      <th>ProdID</th>\n",
       "      <th>Rating</th>\n",
       "      <th>ReviewCount</th>\n",
       "      <th>Category</th>\n",
       "      <th>Brand</th>\n",
       "      <th>Name</th>\n",
       "      <th>ImageURL</th>\n",
       "      <th>Description</th>\n",
       "      <th>Tags</th>\n",
       "    </tr>\n",
       "  </thead>\n",
       "  <tbody>\n",
       "    <tr>\n",
       "      <th>0</th>\n",
       "      <td>1.705737e+09</td>\n",
       "      <td>2.0</td>\n",
       "      <td>0.0</td>\n",
       "      <td>0.0</td>\n",
       "      <td>Premium Beauty &gt; Premium Makeup &gt; Premium Nail...</td>\n",
       "      <td>OPI</td>\n",
       "      <td>OPI Infinite Shine, Nail Lacquer Nail Polish, ...</td>\n",
       "      <td>https://i5.walmartimages.com/asr/0e1f4c51-c1a4...</td>\n",
       "      <td></td>\n",
       "      <td>OPI Infinite Shine, Nail Lacquer Nail Polish, ...</td>\n",
       "    </tr>\n",
       "    <tr>\n",
       "      <th>1</th>\n",
       "      <td>9.500000e+01</td>\n",
       "      <td>76.0</td>\n",
       "      <td>0.0</td>\n",
       "      <td>0.0</td>\n",
       "      <td>Beauty &gt; Hair Care &gt; Hair Color &gt; Auburn Hair ...</td>\n",
       "      <td>Nice'n Easy</td>\n",
       "      <td>Nice n Easy Permanent Color, 111 Natural Mediu...</td>\n",
       "      <td>https://i5.walmartimages.com/asr/9c8e42e4-13a5...</td>\n",
       "      <td>Pack of 3 Pack of 3 for the UPC: 381519000201 ...</td>\n",
       "      <td>Nice 'n Easy Permanent Color, 111 Natural Medi...</td>\n",
       "    </tr>\n",
       "  </tbody>\n",
       "</table>\n",
       "</div>"
      ],
      "text/plain": [
       "             ID  ProdID  Rating  ReviewCount  \\\n",
       "0  1.705737e+09     2.0     0.0          0.0   \n",
       "1  9.500000e+01    76.0     0.0          0.0   \n",
       "\n",
       "                                            Category        Brand  \\\n",
       "0  Premium Beauty > Premium Makeup > Premium Nail...          OPI   \n",
       "1  Beauty > Hair Care > Hair Color > Auburn Hair ...  Nice'n Easy   \n",
       "\n",
       "                                                Name  \\\n",
       "0  OPI Infinite Shine, Nail Lacquer Nail Polish, ...   \n",
       "1  Nice n Easy Permanent Color, 111 Natural Mediu...   \n",
       "\n",
       "                                            ImageURL  \\\n",
       "0  https://i5.walmartimages.com/asr/0e1f4c51-c1a4...   \n",
       "1  https://i5.walmartimages.com/asr/9c8e42e4-13a5...   \n",
       "\n",
       "                                         Description  \\\n",
       "0                                                      \n",
       "1  Pack of 3 Pack of 3 for the UPC: 381519000201 ...   \n",
       "\n",
       "                                                Tags  \n",
       "0  OPI Infinite Shine, Nail Lacquer Nail Polish, ...  \n",
       "1  Nice 'n Easy Permanent Color, 111 Natural Medi...  "
      ]
     },
     "execution_count": 15,
     "metadata": {},
     "output_type": "execute_result"
    }
   ],
   "source": [
    "train_data['ID'] = train_data['ID'].str.extract(r'(\\d+)').astype(float)\n",
    "train_data['ProdID'] = train_data['ProdID'].str.extract(r'(\\d+)').astype(float)\n",
    "\n",
    "train_data.head(2)"
   ]
  },
  {
   "cell_type": "markdown",
   "id": "7367c63e-aaee-47db-aa1a-a9c8608fbf77",
   "metadata": {},
   "source": [
    "Some values ​​in the data set may be complex or mixed, for example 'ID1234'. The code uses regular expressions to extract the numbers within each 'ID' value. While the train_data['ID'] expression accesses the 'ID' column of the data set, the .str.extract(r'(\\d+)') expression extracts only the numbers from the texts in this column."
   ]
  },
  {
   "cell_type": "markdown",
   "id": "8840e017-566e-459d-9d84-31aab1eb1511",
   "metadata": {},
   "source": [
    "# eda (exploraty data analysis)"
   ]
  },
  {
   "cell_type": "code",
   "execution_count": 16,
   "id": "7b439ef4-0ea9-4c7f-8a48-489cb23010c5",
   "metadata": {},
   "outputs": [
    {
     "name": "stdout",
     "output_type": "stream",
     "text": [
      "Number of unique users: 1721\n",
      "Number of unique items: 1697\n",
      "Number of unique ratings: 36\n"
     ]
    }
   ],
   "source": [
    "#basic statistics \n",
    "\n",
    "num_users = train_data['ID'].nunique()\n",
    "num_items = train_data['ProdID'].nunique()\n",
    "num_ratings = train_data['Rating'].nunique()\n",
    "\n",
    "print(f\"Number of unique users: {num_users}\") \n",
    "print(f\"Number of unique items: {num_items}\") \n",
    "print(f\"Number of unique ratings: {num_ratings}\") "
   ]
  },
  {
   "cell_type": "code",
   "execution_count": 17,
   "id": "fdae2578-aeb2-47d4-9990-00c4669c1061",
   "metadata": {},
   "outputs": [
    {
     "data": {
      "image/png": "[encoded data removed]",
      "text/plain": [
       "<Figure size 800x600 with 2 Axes>"
      ]
     },
     "metadata": {},
     "output_type": "display_data"
    }
   ],
   "source": [
    "#pivoting the dataframe to create a heatmap \n",
    "heatmap_data = train_data.pivot_table('ID','Rating')\n",
    "\n",
    "#creating part \n",
    "plt.figure(figsize=(8,6))\n",
    "sns.heatmap(heatmap_data, annot=True, fmt='g', cmap='coolwarm',cbar=True)\n",
    "plt.title('Heatmap of Users Ratings')\n",
    "plt.xlabel('Ratings')\n",
    "plt.ylabel('User Id')\n",
    "plt.show()"
   ]
  },
  {
   "cell_type": "code",
   "execution_count": 18,
   "id": "b43e28be-7858-4eca-947b-26c9ee6e046c",
   "metadata": {},
   "outputs": [
    {
     "data": {
      "image/png": "[encoded data removed]",
      "text/plain": [
       "<Figure size 1200x500 with 2 Axes>"
      ]
     },
     "metadata": {},
     "output_type": "display_data"
    }
   ],
   "source": [
    "#distribution of interactions \n",
    "plt.figure(figsize=(12,5))\n",
    "plt.subplot(1,2,1)\n",
    "train_data['ID'].value_counts().hist(bins=10, edgecolor='k')\n",
    "plt.xlabel('Interactions per user')\n",
    "plt.ylabel('Number of users')\n",
    "plt.title('distribution of interactions per user')\n",
    "\n",
    "plt.subplot(1,2,2)\n",
    "train_data['ProdID'].value_counts().hist(bins=10, edgecolor='k',color='green')\n",
    "plt.xlabel('Interactions per item')\n",
    "plt.ylabel('Number of items')\n",
    "plt.title('distribution of interactions per item')\n",
    "\n",
    "plt.tight_layout()\n",
    "plt.show()"
   ]
  },
  {
   "cell_type": "markdown",
   "id": "06a7e056-1cde-4707-b80c-948cdbf20ba8",
   "metadata": {},
   "source": [
    "As we can see, most users and most products are almost never even used. Now we will take the most popular products and the most engaged users."
   ]
  },
  {
   "cell_type": "code",
   "execution_count": 19,
   "id": "4c2e91ca-7c28-4167-87cb-14964486e529",
   "metadata": {},
   "outputs": [
    {
     "data": {
      "text/plain": [
       "Text(0.5, 1.0, 'most populer items')"
      ]
     },
     "execution_count": 19,
     "metadata": {},
     "output_type": "execute_result"
    },
    {
     "data": {
      "image/png": "[encoded data removed]",
      "text/plain": [
       "<Figure size 640x480 with 1 Axes>"
      ]
     },
     "metadata": {},
     "output_type": "display_data"
    }
   ],
   "source": [
    "populer_items = train_data['ProdID'].value_counts().head(5)\n",
    "populer_items.plot(kind='bar', color='red')\n",
    "plt.title(\"most populer items\")\n"
   ]
  },
  {
   "cell_type": "code",
   "execution_count": 20,
   "id": "79e1c329-7413-45cc-b46d-6b4b474f3635",
   "metadata": {},
   "outputs": [
    {
     "data": {
      "text/plain": [
       "<Axes: xlabel='Rating'>"
      ]
     },
     "execution_count": 20,
     "metadata": {},
     "output_type": "execute_result"
    },
    {
     "data": {
      "image/png": "[encoded data removed]",
      "text/plain": [
       "<Figure size 640x480 with 1 Axes>"
      ]
     },
     "metadata": {},
     "output_type": "display_data"
    }
   ],
   "source": [
    "#most rated counts \n",
    "train_data['Rating'].value_counts().plot(kind='bar', color='red')"
   ]
  },
  {
   "cell_type": "code",
   "execution_count": null,
   "id": "bf9c3a7a-4ad6-4305-9c4c-016e5983bc8d",
   "metadata": {},
   "outputs": [],
   "source": []
  },
  {
   "cell_type": "markdown",
   "id": "fb94381b-ff98-4f25-9191-097c2f8f2fe2",
   "metadata": {},
   "source": [
    "# data cleaning and 'tags' creations "
   ]
  },
  {
   "cell_type": "markdown",
   "id": "cd4cae7f-484f-427c-a953-7f1cc7618ffc",
   "metadata": {},
   "source": [
    "pip install spacy"
   ]
  },
  {
   "cell_type": "code",
   "execution_count": 21,
   "id": "d219189e-53e0-46e3-a0f6-c454d98a7640",
   "metadata": {},
   "outputs": [],
   "source": [
    "import spacy \n",
    "from spacy.lang.en.stop_words import STOP_WORDS\n",
    "\n",
    "nlp = spacy.load(\"en_core_web_sm\")\n",
    "\n",
    "def clean_and_extract_tags(text):\n",
    "    doc= nlp(text.lower())\n",
    "    tags = [token.text for token in doc if token.text.isalnum() and token.text not in STOP_WORDS]\n",
    "    return ', '.join(tags)\n",
    "\n",
    "columns_to_extract_tags_from = ['Category','Brand','Description']\n",
    "\n",
    "for column in columns_to_extract_tags_from:\n",
    "    train_data[column] = train_data[column].apply(clean_and_extract_tags)"
   ]
  },
  {
   "cell_type": "markdown",
   "id": "76843dcd-51e1-4932-8646-79584a506764",
   "metadata": {},
   "source": [
    "This code aims to clean text data from certain columns in a dataset (e.g. 'Category', 'Brand', 'Description') and extract important words as labels."
   ]
  },
  {
   "cell_type": "code",
   "execution_count": 23,
   "id": "155c0f88-3cad-4fed-903b-d91697c15d58",
   "metadata": {},
   "outputs": [
    {
     "data": {
      "text/html": [
       "<div>\n",
       "<style scoped>\n",
       "    .dataframe tbody tr th:only-of-type {\n",
       "        vertical-align: middle;\n",
       "    }\n",
       "\n",
       "    .dataframe tbody tr th {\n",
       "        vertical-align: top;\n",
       "    }\n",
       "\n",
       "    .dataframe thead th {\n",
       "        text-align: right;\n",
       "    }\n",
       "</style>\n",
       "<table border=\"1\" class=\"dataframe\">\n",
       "  <thead>\n",
       "    <tr style=\"text-align: right;\">\n",
       "      <th></th>\n",
       "      <th>ID</th>\n",
       "      <th>ProdID</th>\n",
       "      <th>Rating</th>\n",
       "      <th>ReviewCount</th>\n",
       "      <th>Category</th>\n",
       "      <th>Brand</th>\n",
       "      <th>Name</th>\n",
       "      <th>ImageURL</th>\n",
       "      <th>Description</th>\n",
       "      <th>Tags</th>\n",
       "    </tr>\n",
       "  </thead>\n",
       "  <tbody>\n",
       "    <tr>\n",
       "      <th>0</th>\n",
       "      <td>1.705737e+09</td>\n",
       "      <td>2.0</td>\n",
       "      <td>0.0</td>\n",
       "      <td>0.0</td>\n",
       "      <td>premium, beauty, premium, makeup, premium, nai...</td>\n",
       "      <td>opi</td>\n",
       "      <td>OPI Infinite Shine, Nail Lacquer Nail Polish, ...</td>\n",
       "      <td>https://i5.walmartimages.com/asr/0e1f4c51-c1a4...</td>\n",
       "      <td></td>\n",
       "      <td>OPI Infinite Shine, Nail Lacquer Nail Polish, ...</td>\n",
       "    </tr>\n",
       "    <tr>\n",
       "      <th>1</th>\n",
       "      <td>9.500000e+01</td>\n",
       "      <td>76.0</td>\n",
       "      <td>0.0</td>\n",
       "      <td>0.0</td>\n",
       "      <td>beauty, hair, care, hair, color, auburn, hair,...</td>\n",
       "      <td>easy</td>\n",
       "      <td>Nice n Easy Permanent Color, 111 Natural Mediu...</td>\n",
       "      <td>https://i5.walmartimages.com/asr/9c8e42e4-13a5...</td>\n",
       "      <td>pack, 3, pack, 3, upc, 381519000201, beautiful...</td>\n",
       "      <td>Nice 'n Easy Permanent Color, 111 Natural Medi...</td>\n",
       "    </tr>\n",
       "  </tbody>\n",
       "</table>\n",
       "</div>"
      ],
      "text/plain": [
       "             ID  ProdID  Rating  ReviewCount  \\\n",
       "0  1.705737e+09     2.0     0.0          0.0   \n",
       "1  9.500000e+01    76.0     0.0          0.0   \n",
       "\n",
       "                                            Category Brand  \\\n",
       "0  premium, beauty, premium, makeup, premium, nai...   opi   \n",
       "1  beauty, hair, care, hair, color, auburn, hair,...  easy   \n",
       "\n",
       "                                                Name  \\\n",
       "0  OPI Infinite Shine, Nail Lacquer Nail Polish, ...   \n",
       "1  Nice n Easy Permanent Color, 111 Natural Mediu...   \n",
       "\n",
       "                                            ImageURL  \\\n",
       "0  https://i5.walmartimages.com/asr/0e1f4c51-c1a4...   \n",
       "1  https://i5.walmartimages.com/asr/9c8e42e4-13a5...   \n",
       "\n",
       "                                         Description  \\\n",
       "0                                                      \n",
       "1  pack, 3, pack, 3, upc, 381519000201, beautiful...   \n",
       "\n",
       "                                                Tags  \n",
       "0  OPI Infinite Shine, Nail Lacquer Nail Polish, ...  \n",
       "1  Nice 'n Easy Permanent Color, 111 Natural Medi...  "
      ]
     },
     "execution_count": 23,
     "metadata": {},
     "output_type": "execute_result"
    }
   ],
   "source": [
    "train_data.head(2)"
   ]
  },
  {
   "cell_type": "code",
   "execution_count": 24,
   "id": "d687b5ad-012b-4d20-a3e9-f48fee72d37c",
   "metadata": {},
   "outputs": [],
   "source": [
    "train_data['Tags'] = train_data[columns_to_extract_tags_from].apply(lambda row: ', '.join(row), axis=1)"
   ]
  },
  {
   "cell_type": "code",
   "execution_count": 25,
   "id": "e14440ed-0584-428f-84fd-065b762f001a",
   "metadata": {},
   "outputs": [
    {
     "data": {
      "text/html": [
       "<div>\n",
       "<style scoped>\n",
       "    .dataframe tbody tr th:only-of-type {\n",
       "        vertical-align: middle;\n",
       "    }\n",
       "\n",
       "    .dataframe tbody tr th {\n",
       "        vertical-align: top;\n",
       "    }\n",
       "\n",
       "    .dataframe thead th {\n",
       "        text-align: right;\n",
       "    }\n",
       "</style>\n",
       "<table border=\"1\" class=\"dataframe\">\n",
       "  <thead>\n",
       "    <tr style=\"text-align: right;\">\n",
       "      <th></th>\n",
       "      <th>ID</th>\n",
       "      <th>ProdID</th>\n",
       "      <th>Rating</th>\n",
       "      <th>ReviewCount</th>\n",
       "      <th>Category</th>\n",
       "      <th>Brand</th>\n",
       "      <th>Name</th>\n",
       "      <th>ImageURL</th>\n",
       "      <th>Description</th>\n",
       "      <th>Tags</th>\n",
       "    </tr>\n",
       "  </thead>\n",
       "  <tbody>\n",
       "    <tr>\n",
       "      <th>0</th>\n",
       "      <td>1.705737e+09</td>\n",
       "      <td>2.0</td>\n",
       "      <td>0.0</td>\n",
       "      <td>0.0</td>\n",
       "      <td>premium, beauty, premium, makeup, premium, nai...</td>\n",
       "      <td>opi</td>\n",
       "      <td>OPI Infinite Shine, Nail Lacquer Nail Polish, ...</td>\n",
       "      <td>https://i5.walmartimages.com/asr/0e1f4c51-c1a4...</td>\n",
       "      <td></td>\n",
       "      <td>premium, beauty, premium, makeup, premium, nai...</td>\n",
       "    </tr>\n",
       "    <tr>\n",
       "      <th>1</th>\n",
       "      <td>9.500000e+01</td>\n",
       "      <td>76.0</td>\n",
       "      <td>0.0</td>\n",
       "      <td>0.0</td>\n",
       "      <td>beauty, hair, care, hair, color, auburn, hair,...</td>\n",
       "      <td>easy</td>\n",
       "      <td>Nice n Easy Permanent Color, 111 Natural Mediu...</td>\n",
       "      <td>https://i5.walmartimages.com/asr/9c8e42e4-13a5...</td>\n",
       "      <td>pack, 3, pack, 3, upc, 381519000201, beautiful...</td>\n",
       "      <td>beauty, hair, care, hair, color, auburn, hair,...</td>\n",
       "    </tr>\n",
       "  </tbody>\n",
       "</table>\n",
       "</div>"
      ],
      "text/plain": [
       "             ID  ProdID  Rating  ReviewCount  \\\n",
       "0  1.705737e+09     2.0     0.0          0.0   \n",
       "1  9.500000e+01    76.0     0.0          0.0   \n",
       "\n",
       "                                            Category Brand  \\\n",
       "0  premium, beauty, premium, makeup, premium, nai...   opi   \n",
       "1  beauty, hair, care, hair, color, auburn, hair,...  easy   \n",
       "\n",
       "                                                Name  \\\n",
       "0  OPI Infinite Shine, Nail Lacquer Nail Polish, ...   \n",
       "1  Nice n Easy Permanent Color, 111 Natural Mediu...   \n",
       "\n",
       "                                            ImageURL  \\\n",
       "0  https://i5.walmartimages.com/asr/0e1f4c51-c1a4...   \n",
       "1  https://i5.walmartimages.com/asr/9c8e42e4-13a5...   \n",
       "\n",
       "                                         Description  \\\n",
       "0                                                      \n",
       "1  pack, 3, pack, 3, upc, 381519000201, beautiful...   \n",
       "\n",
       "                                                Tags  \n",
       "0  premium, beauty, premium, makeup, premium, nai...  \n",
       "1  beauty, hair, care, hair, color, auburn, hair,...  "
      ]
     },
     "execution_count": 25,
     "metadata": {},
     "output_type": "execute_result"
    }
   ],
   "source": [
    "train_data.head(2)"
   ]
  },
  {
   "cell_type": "markdown",
   "id": "b636f9cc-2680-43ec-b2a3-d4cfb148b5f9",
   "metadata": {},
   "source": [
    "# rating base recommendations"
   ]
  },
  {
   "cell_type": "code",
   "execution_count": 28,
   "id": "f31f46b9-7fed-4c02-8aab-41bf7d372d2f",
   "metadata": {},
   "outputs": [
    {
     "data": {
      "text/plain": [
       "Name\n",
       "$6 Mail-In Rebate Available Braun Epilator Silk-epil 3-270 with Bikini Trimmer and 3 Extras                           4.5\n",
       "($100 Value) Peter Thomas Roth Thermal Therapy Duo Skincare Kit                                                       5.0\n",
       "($11 Value) Love Beauty and Planet Coconut Water Mimosa & Lavender Argan Oil Hand Cream Holiday Gift Set 2 Ct         0.0\n",
       "($125 Value) Impressions Vanity Touch Pro LED Makeup Mirror with Wireless Bluetooth Audio & USB Charger, Rose Gold    2.5\n",
       "($129 Value) CHI G2 Ceramic Titanium Infused Hairstyling Flat Iron Straightener, 1&quot                               4.4\n",
       "                                                                                                                     ... \n",
       "wet n wild Photo Focus Correcting Palette, Color Commentary                                                           3.3\n",
       "wet n wild Photo Focus Liquid Foundation, Medium Dark, Matte, Desert Beige, 1 fl oz                                   0.0\n",
       "wet n wild Photo Focus Pressed Powder, Dark Café                                                                      4.2\n",
       "wet n wild Silk Finish Lipstick, Honolulu Is Calling                                                                  3.9\n",
       "wnw i-shimmer eyepencil sky li                                                                                        0.0\n",
       "Name: Rating, Length: 4921, dtype: float64"
      ]
     },
     "execution_count": 28,
     "metadata": {},
     "output_type": "execute_result"
    }
   ],
   "source": [
    "train_data.groupby(['Name'])['Rating'].mean()"
   ]
  },
  {
   "cell_type": "markdown",
   "id": "f750636f-1813-43f0-b807-e6b0bd9e1598",
   "metadata": {},
   "source": [
    "This code calculates the average ratings grouped by the names of the products in a data frame (DataFrame) called train_data and displays the result of these calculations."
   ]
  },
  {
   "cell_type": "markdown",
   "id": "171c6edf-21c4-4b7d-9e86-cba0ee7f9ca9",
   "metadata": {},
   "source": [
    "For example:\n",
    "The average score of the product \"$6 Mail-In Rebate Available Braun Epilator Silk-epil 3-270 with Bikini Trimmer and 3 Extras\" is calculated as 4.5."
   ]
  },
  {
   "cell_type": "code",
   "execution_count": 30,
   "id": "c17feaaf-652b-4dc0-98de-4228c93e54b7",
   "metadata": {
    "scrolled": true
   },
   "outputs": [
    {
     "data": {
      "text/html": [
       "<div>\n",
       "<style scoped>\n",
       "    .dataframe tbody tr th:only-of-type {\n",
       "        vertical-align: middle;\n",
       "    }\n",
       "\n",
       "    .dataframe tbody tr th {\n",
       "        vertical-align: top;\n",
       "    }\n",
       "\n",
       "    .dataframe thead th {\n",
       "        text-align: right;\n",
       "    }\n",
       "</style>\n",
       "<table border=\"1\" class=\"dataframe\">\n",
       "  <thead>\n",
       "    <tr style=\"text-align: right;\">\n",
       "      <th></th>\n",
       "      <th>Name</th>\n",
       "      <th>ReviewCount</th>\n",
       "      <th>Brand</th>\n",
       "      <th>ImageURL</th>\n",
       "      <th>Rating</th>\n",
       "    </tr>\n",
       "  </thead>\n",
       "  <tbody>\n",
       "    <tr>\n",
       "      <th>0</th>\n",
       "      <td>$6 Mail-In Rebate Available Braun Epilator Sil...</td>\n",
       "      <td>146.0</td>\n",
       "      <td>braun</td>\n",
       "      <td>https://i5.walmartimages.com/asr/c7d78838-e8e2...</td>\n",
       "      <td>4.5</td>\n",
       "    </tr>\n",
       "    <tr>\n",
       "      <th>1</th>\n",
       "      <td>($100 Value) Peter Thomas Roth Thermal Therapy...</td>\n",
       "      <td>1.0</td>\n",
       "      <td>peter, thomas, roth</td>\n",
       "      <td>https://i5.walmartimages.com/asr/ecd851ef-6ca7...</td>\n",
       "      <td>5.0</td>\n",
       "    </tr>\n",
       "    <tr>\n",
       "      <th>2</th>\n",
       "      <td>($11 Value) Love Beauty and Planet Coconut Wat...</td>\n",
       "      <td>278.0</td>\n",
       "      <td>love, beauty, planet</td>\n",
       "      <td>https://i5.walmartimages.com/asr/0348d82d-2a13...</td>\n",
       "      <td>0.0</td>\n",
       "    </tr>\n",
       "    <tr>\n",
       "      <th>3</th>\n",
       "      <td>($125 Value) Impressions Vanity Touch Pro LED ...</td>\n",
       "      <td>2.0</td>\n",
       "      <td>impressions, vanity</td>\n",
       "      <td>https://i5.walmartimages.com/asr/b886b154-97fd...</td>\n",
       "      <td>2.5</td>\n",
       "    </tr>\n",
       "    <tr>\n",
       "      <th>4</th>\n",
       "      <td>($129 Value) CHI G2 Ceramic Titanium Infused H...</td>\n",
       "      <td>23.0</td>\n",
       "      <td>chi</td>\n",
       "      <td>https://i5.walmartimages.com/asr/9bcc0ed7-d62c...</td>\n",
       "      <td>4.4</td>\n",
       "    </tr>\n",
       "    <tr>\n",
       "      <th>...</th>\n",
       "      <td>...</td>\n",
       "      <td>...</td>\n",
       "      <td>...</td>\n",
       "      <td>...</td>\n",
       "      <td>...</td>\n",
       "    </tr>\n",
       "    <tr>\n",
       "      <th>4987</th>\n",
       "      <td>wet n wild Photo Focus Correcting Palette, Col...</td>\n",
       "      <td>12.0</td>\n",
       "      <td>wet, n, wild</td>\n",
       "      <td>https://i5.walmartimages.com/asr/750275fb-ccfa...</td>\n",
       "      <td>3.3</td>\n",
       "    </tr>\n",
       "    <tr>\n",
       "      <th>4988</th>\n",
       "      <td>wet n wild Photo Focus Liquid Foundation, Medi...</td>\n",
       "      <td>7827.0</td>\n",
       "      <td>wet, n, wild</td>\n",
       "      <td>https://i5.walmartimages.com/asr/c2c5dc7e-9bbb...</td>\n",
       "      <td>0.0</td>\n",
       "    </tr>\n",
       "    <tr>\n",
       "      <th>4989</th>\n",
       "      <td>wet n wild Photo Focus Pressed Powder, Dark Café</td>\n",
       "      <td>635.0</td>\n",
       "      <td>wet, n, wild</td>\n",
       "      <td>https://i5.walmartimages.com/asr/57bd497f-0d5c...</td>\n",
       "      <td>4.2</td>\n",
       "    </tr>\n",
       "    <tr>\n",
       "      <th>4990</th>\n",
       "      <td>wet n wild Silk Finish Lipstick, Honolulu Is C...</td>\n",
       "      <td>4259.0</td>\n",
       "      <td>wet, n, wild</td>\n",
       "      <td>https://i5.walmartimages.com/asr/0e25f705-a924...</td>\n",
       "      <td>3.9</td>\n",
       "    </tr>\n",
       "    <tr>\n",
       "      <th>4991</th>\n",
       "      <td>wnw i-shimmer eyepencil sky li</td>\n",
       "      <td>0.0</td>\n",
       "      <td>wet, n, wild</td>\n",
       "      <td>https://i5.walmartimages.com/asr/806e2816-e092...</td>\n",
       "      <td>0.0</td>\n",
       "    </tr>\n",
       "  </tbody>\n",
       "</table>\n",
       "<p>4992 rows × 5 columns</p>\n",
       "</div>"
      ],
      "text/plain": [
       "                                                   Name  ReviewCount  \\\n",
       "0     $6 Mail-In Rebate Available Braun Epilator Sil...        146.0   \n",
       "1     ($100 Value) Peter Thomas Roth Thermal Therapy...          1.0   \n",
       "2     ($11 Value) Love Beauty and Planet Coconut Wat...        278.0   \n",
       "3     ($125 Value) Impressions Vanity Touch Pro LED ...          2.0   \n",
       "4     ($129 Value) CHI G2 Ceramic Titanium Infused H...         23.0   \n",
       "...                                                 ...          ...   \n",
       "4987  wet n wild Photo Focus Correcting Palette, Col...         12.0   \n",
       "4988  wet n wild Photo Focus Liquid Foundation, Medi...       7827.0   \n",
       "4989   wet n wild Photo Focus Pressed Powder, Dark Café        635.0   \n",
       "4990  wet n wild Silk Finish Lipstick, Honolulu Is C...       4259.0   \n",
       "4991                     wnw i-shimmer eyepencil sky li          0.0   \n",
       "\n",
       "                     Brand                                           ImageURL  \\\n",
       "0                    braun  https://i5.walmartimages.com/asr/c7d78838-e8e2...   \n",
       "1      peter, thomas, roth  https://i5.walmartimages.com/asr/ecd851ef-6ca7...   \n",
       "2     love, beauty, planet  https://i5.walmartimages.com/asr/0348d82d-2a13...   \n",
       "3      impressions, vanity  https://i5.walmartimages.com/asr/b886b154-97fd...   \n",
       "4                      chi  https://i5.walmartimages.com/asr/9bcc0ed7-d62c...   \n",
       "...                    ...                                                ...   \n",
       "4987          wet, n, wild  https://i5.walmartimages.com/asr/750275fb-ccfa...   \n",
       "4988          wet, n, wild  https://i5.walmartimages.com/asr/c2c5dc7e-9bbb...   \n",
       "4989          wet, n, wild  https://i5.walmartimages.com/asr/57bd497f-0d5c...   \n",
       "4990          wet, n, wild  https://i5.walmartimages.com/asr/0e25f705-a924...   \n",
       "4991          wet, n, wild  https://i5.walmartimages.com/asr/806e2816-e092...   \n",
       "\n",
       "      Rating  \n",
       "0        4.5  \n",
       "1        5.0  \n",
       "2        0.0  \n",
       "3        2.5  \n",
       "4        4.4  \n",
       "...      ...  \n",
       "4987     3.3  \n",
       "4988     0.0  \n",
       "4989     4.2  \n",
       "4990     3.9  \n",
       "4991     0.0  \n",
       "\n",
       "[4992 rows x 5 columns]"
      ]
     },
     "execution_count": 30,
     "metadata": {},
     "output_type": "execute_result"
    }
   ],
   "source": [
    "train_data.groupby(['Name','ReviewCount','Brand','ImageURL'])['Rating'].mean().reset_index()"
   ]
  },
  {
   "cell_type": "code",
   "execution_count": 31,
   "id": "97c4322e-f4e7-40a4-8737-b6e597c7c565",
   "metadata": {},
   "outputs": [],
   "source": [
    "average_ratings = train_data.groupby(['Name','ReviewCount','Brand','ImageURL'])['Rating'].mean().reset_index()"
   ]
  },
  {
   "cell_type": "code",
   "execution_count": 34,
   "id": "d7a5e6ad-beb0-4461-8336-99414ebbad1a",
   "metadata": {},
   "outputs": [
    {
     "data": {
      "text/html": [
       "<div>\n",
       "<style scoped>\n",
       "    .dataframe tbody tr th:only-of-type {\n",
       "        vertical-align: middle;\n",
       "    }\n",
       "\n",
       "    .dataframe tbody tr th {\n",
       "        vertical-align: top;\n",
       "    }\n",
       "\n",
       "    .dataframe thead th {\n",
       "        text-align: right;\n",
       "    }\n",
       "</style>\n",
       "<table border=\"1\" class=\"dataframe\">\n",
       "  <thead>\n",
       "    <tr style=\"text-align: right;\">\n",
       "      <th></th>\n",
       "      <th>Name</th>\n",
       "      <th>ReviewCount</th>\n",
       "      <th>Brand</th>\n",
       "      <th>ImageURL</th>\n",
       "      <th>Rating</th>\n",
       "    </tr>\n",
       "  </thead>\n",
       "  <tbody>\n",
       "    <tr>\n",
       "      <th>1686</th>\n",
       "      <td>Electric Shaver, Triple Shaving Time Electric ...</td>\n",
       "      <td>4.0</td>\n",
       "      <td>moosoo</td>\n",
       "      <td>https://i5.walmartimages.com/asr/e7dcd553-90df...</td>\n",
       "      <td>5.0</td>\n",
       "    </tr>\n",
       "    <tr>\n",
       "      <th>526</th>\n",
       "      <td>Alaffia Body Lotion, Vanilla, 32 Oz</td>\n",
       "      <td>2.0</td>\n",
       "      <td>alaffia</td>\n",
       "      <td>https://i5.walmartimages.com/asr/2988c323-cb6f...</td>\n",
       "      <td>5.0</td>\n",
       "    </tr>\n",
       "    <tr>\n",
       "      <th>2053</th>\n",
       "      <td>Gold Bond Ultimate Ultimate Healing Lotion, Al...</td>\n",
       "      <td>2.0</td>\n",
       "      <td>gold, bond</td>\n",
       "      <td>https://i5.walmartimages.com/asr/34b610e7-05db...</td>\n",
       "      <td>5.0</td>\n",
       "    </tr>\n",
       "    <tr>\n",
       "      <th>4716</th>\n",
       "      <td>Versace Man Eau Fraiche Eau De Toilette Spray,...</td>\n",
       "      <td>24.0</td>\n",
       "      <td>versace</td>\n",
       "      <td>https://i5.walmartimages.com/asr/edaaeed5-9da0...</td>\n",
       "      <td>5.0</td>\n",
       "    </tr>\n",
       "    <tr>\n",
       "      <th>2058</th>\n",
       "      <td>Goldwell StyleSign 1 Flat Marvel Straightening...</td>\n",
       "      <td>2.0</td>\n",
       "      <td>goldwell</td>\n",
       "      <td>https://i5.walmartimages.com/asr/3bf90289-6980...</td>\n",
       "      <td>5.0</td>\n",
       "    </tr>\n",
       "    <tr>\n",
       "      <th>...</th>\n",
       "      <td>...</td>\n",
       "      <td>...</td>\n",
       "      <td>...</td>\n",
       "      <td>...</td>\n",
       "      <td>...</td>\n",
       "    </tr>\n",
       "    <tr>\n",
       "      <th>2172</th>\n",
       "      <td>Herbal Clean Same-Day Premium Detox Drink 20oz...</td>\n",
       "      <td>0.0</td>\n",
       "      <td>herbal, clean</td>\n",
       "      <td>https://i5.walmartimages.com/asr/5dbe0d57-ea2a...</td>\n",
       "      <td>0.0</td>\n",
       "    </tr>\n",
       "    <tr>\n",
       "      <th>2173</th>\n",
       "      <td>Herbal Clean Same-Day Premium Detox Drink, 32o...</td>\n",
       "      <td>1.0</td>\n",
       "      <td>herbal, clean</td>\n",
       "      <td>https://i5.walmartimages.com/asr/7510a9ff-ed21...</td>\n",
       "      <td>0.0</td>\n",
       "    </tr>\n",
       "    <tr>\n",
       "      <th>2174</th>\n",
       "      <td>Herbal Essences Bio:renew Vitamin E with Cocoa...</td>\n",
       "      <td>143.0</td>\n",
       "      <td>herbal, essences</td>\n",
       "      <td>https://i5.walmartimages.com/asr/cd06460b-e7f0...</td>\n",
       "      <td>0.0</td>\n",
       "    </tr>\n",
       "    <tr>\n",
       "      <th>2175</th>\n",
       "      <td>Herbal Essences Color Me Happy Conditioner Aca...</td>\n",
       "      <td>231.0</td>\n",
       "      <td>herbal, essences</td>\n",
       "      <td>https://i5.walmartimages.com/asr/54ca3569-c45d...</td>\n",
       "      <td>0.0</td>\n",
       "    </tr>\n",
       "    <tr>\n",
       "      <th>4991</th>\n",
       "      <td>wnw i-shimmer eyepencil sky li</td>\n",
       "      <td>0.0</td>\n",
       "      <td>wet, n, wild</td>\n",
       "      <td>https://i5.walmartimages.com/asr/806e2816-e092...</td>\n",
       "      <td>0.0</td>\n",
       "    </tr>\n",
       "  </tbody>\n",
       "</table>\n",
       "<p>4992 rows × 5 columns</p>\n",
       "</div>"
      ],
      "text/plain": [
       "                                                   Name  ReviewCount  \\\n",
       "1686  Electric Shaver, Triple Shaving Time Electric ...          4.0   \n",
       "526                 Alaffia Body Lotion, Vanilla, 32 Oz          2.0   \n",
       "2053  Gold Bond Ultimate Ultimate Healing Lotion, Al...          2.0   \n",
       "4716  Versace Man Eau Fraiche Eau De Toilette Spray,...         24.0   \n",
       "2058  Goldwell StyleSign 1 Flat Marvel Straightening...          2.0   \n",
       "...                                                 ...          ...   \n",
       "2172  Herbal Clean Same-Day Premium Detox Drink 20oz...          0.0   \n",
       "2173  Herbal Clean Same-Day Premium Detox Drink, 32o...          1.0   \n",
       "2174  Herbal Essences Bio:renew Vitamin E with Cocoa...        143.0   \n",
       "2175  Herbal Essences Color Me Happy Conditioner Aca...        231.0   \n",
       "4991                     wnw i-shimmer eyepencil sky li          0.0   \n",
       "\n",
       "                 Brand                                           ImageURL  \\\n",
       "1686            moosoo  https://i5.walmartimages.com/asr/e7dcd553-90df...   \n",
       "526            alaffia  https://i5.walmartimages.com/asr/2988c323-cb6f...   \n",
       "2053        gold, bond  https://i5.walmartimages.com/asr/34b610e7-05db...   \n",
       "4716           versace  https://i5.walmartimages.com/asr/edaaeed5-9da0...   \n",
       "2058          goldwell  https://i5.walmartimages.com/asr/3bf90289-6980...   \n",
       "...                ...                                                ...   \n",
       "2172     herbal, clean  https://i5.walmartimages.com/asr/5dbe0d57-ea2a...   \n",
       "2173     herbal, clean  https://i5.walmartimages.com/asr/7510a9ff-ed21...   \n",
       "2174  herbal, essences  https://i5.walmartimages.com/asr/cd06460b-e7f0...   \n",
       "2175  herbal, essences  https://i5.walmartimages.com/asr/54ca3569-c45d...   \n",
       "4991      wet, n, wild  https://i5.walmartimages.com/asr/806e2816-e092...   \n",
       "\n",
       "      Rating  \n",
       "1686     5.0  \n",
       "526      5.0  \n",
       "2053     5.0  \n",
       "4716     5.0  \n",
       "2058     5.0  \n",
       "...      ...  \n",
       "2172     0.0  \n",
       "2173     0.0  \n",
       "2174     0.0  \n",
       "2175     0.0  \n",
       "4991     0.0  \n",
       "\n",
       "[4992 rows x 5 columns]"
      ]
     },
     "execution_count": 34,
     "metadata": {},
     "output_type": "execute_result"
    }
   ],
   "source": [
    "average_ratings.sort_values(by='Rating', ascending=False)"
   ]
  },
  {
   "cell_type": "code",
   "execution_count": 35,
   "id": "2332dbe4-e0aa-4abb-8665-4395f435a099",
   "metadata": {},
   "outputs": [],
   "source": [
    "top_rated_items = average_ratings.sort_values(by='Rating', ascending=False)"
   ]
  },
  {
   "cell_type": "code",
   "execution_count": 38,
   "id": "6cd1c38e-18c2-4bf5-a26a-974fb8edf8a0",
   "metadata": {},
   "outputs": [
    {
     "data": {
      "text/html": [
       "<div>\n",
       "<style scoped>\n",
       "    .dataframe tbody tr th:only-of-type {\n",
       "        vertical-align: middle;\n",
       "    }\n",
       "\n",
       "    .dataframe tbody tr th {\n",
       "        vertical-align: top;\n",
       "    }\n",
       "\n",
       "    .dataframe thead th {\n",
       "        text-align: right;\n",
       "    }\n",
       "</style>\n",
       "<table border=\"1\" class=\"dataframe\">\n",
       "  <thead>\n",
       "    <tr style=\"text-align: right;\">\n",
       "      <th></th>\n",
       "      <th>Name</th>\n",
       "      <th>ReviewCount</th>\n",
       "      <th>Brand</th>\n",
       "      <th>ImageURL</th>\n",
       "      <th>Rating</th>\n",
       "    </tr>\n",
       "  </thead>\n",
       "  <tbody>\n",
       "    <tr>\n",
       "      <th>1686</th>\n",
       "      <td>Electric Shaver, Triple Shaving Time Electric ...</td>\n",
       "      <td>4.0</td>\n",
       "      <td>moosoo</td>\n",
       "      <td>https://i5.walmartimages.com/asr/e7dcd553-90df...</td>\n",
       "      <td>5.0</td>\n",
       "    </tr>\n",
       "    <tr>\n",
       "      <th>526</th>\n",
       "      <td>Alaffia Body Lotion, Vanilla, 32 Oz</td>\n",
       "      <td>2.0</td>\n",
       "      <td>alaffia</td>\n",
       "      <td>https://i5.walmartimages.com/asr/2988c323-cb6f...</td>\n",
       "      <td>5.0</td>\n",
       "    </tr>\n",
       "    <tr>\n",
       "      <th>2053</th>\n",
       "      <td>Gold Bond Ultimate Ultimate Healing Lotion, Al...</td>\n",
       "      <td>2.0</td>\n",
       "      <td>gold, bond</td>\n",
       "      <td>https://i5.walmartimages.com/asr/34b610e7-05db...</td>\n",
       "      <td>5.0</td>\n",
       "    </tr>\n",
       "    <tr>\n",
       "      <th>4716</th>\n",
       "      <td>Versace Man Eau Fraiche Eau De Toilette Spray,...</td>\n",
       "      <td>24.0</td>\n",
       "      <td>versace</td>\n",
       "      <td>https://i5.walmartimages.com/asr/edaaeed5-9da0...</td>\n",
       "      <td>5.0</td>\n",
       "    </tr>\n",
       "    <tr>\n",
       "      <th>2058</th>\n",
       "      <td>Goldwell StyleSign 1 Flat Marvel Straightening...</td>\n",
       "      <td>2.0</td>\n",
       "      <td>goldwell</td>\n",
       "      <td>https://i5.walmartimages.com/asr/3bf90289-6980...</td>\n",
       "      <td>5.0</td>\n",
       "    </tr>\n",
       "    <tr>\n",
       "      <th>3842</th>\n",
       "      <td>Red Devil 0322 Steel Wool # 00 Very Fine, 8 Pa...</td>\n",
       "      <td>1.0</td>\n",
       "      <td>red, devil</td>\n",
       "      <td>https://i5.walmartimages.com/asr/60bfe5ba-774c...</td>\n",
       "      <td>5.0</td>\n",
       "    </tr>\n",
       "    <tr>\n",
       "      <th>510</th>\n",
       "      <td>Air Wick Plug in Starter Kit, Warmer + 1 Refil...</td>\n",
       "      <td>1.0</td>\n",
       "      <td>air, wick</td>\n",
       "      <td>https://i5.walmartimages.com/asr/0fac65b2-c6aa...</td>\n",
       "      <td>5.0</td>\n",
       "    </tr>\n",
       "    <tr>\n",
       "      <th>3841</th>\n",
       "      <td>Recovery Complex Anti-Frizz Shine Serum by Bai...</td>\n",
       "      <td>4.0</td>\n",
       "      <td>bain, de, terre</td>\n",
       "      <td>https://i5.walmartimages.com/asr/fcdb4d2e-3727...</td>\n",
       "      <td>5.0</td>\n",
       "    </tr>\n",
       "    <tr>\n",
       "      <th>2687</th>\n",
       "      <td>Long Aid Extra Dry Formula Curl Activator Gel ...</td>\n",
       "      <td>12.0</td>\n",
       "      <td>long, aid</td>\n",
       "      <td>https://i5.walmartimages.com/asr/f7f29199-bfa5...</td>\n",
       "      <td>5.0</td>\n",
       "    </tr>\n",
       "    <tr>\n",
       "      <th>2062</th>\n",
       "      <td>Good Sense 60-Day Air Care System, Citrus, 2 o...</td>\n",
       "      <td>1.0</td>\n",
       "      <td>diversey</td>\n",
       "      <td>https://i5.walmartimages.com/asr/025a7068-7bb1...</td>\n",
       "      <td>5.0</td>\n",
       "    </tr>\n",
       "  </tbody>\n",
       "</table>\n",
       "</div>"
      ],
      "text/plain": [
       "                                                   Name  ReviewCount  \\\n",
       "1686  Electric Shaver, Triple Shaving Time Electric ...          4.0   \n",
       "526                 Alaffia Body Lotion, Vanilla, 32 Oz          2.0   \n",
       "2053  Gold Bond Ultimate Ultimate Healing Lotion, Al...          2.0   \n",
       "4716  Versace Man Eau Fraiche Eau De Toilette Spray,...         24.0   \n",
       "2058  Goldwell StyleSign 1 Flat Marvel Straightening...          2.0   \n",
       "3842  Red Devil 0322 Steel Wool # 00 Very Fine, 8 Pa...          1.0   \n",
       "510   Air Wick Plug in Starter Kit, Warmer + 1 Refil...          1.0   \n",
       "3841  Recovery Complex Anti-Frizz Shine Serum by Bai...          4.0   \n",
       "2687  Long Aid Extra Dry Formula Curl Activator Gel ...         12.0   \n",
       "2062  Good Sense 60-Day Air Care System, Citrus, 2 o...          1.0   \n",
       "\n",
       "                Brand                                           ImageURL  \\\n",
       "1686           moosoo  https://i5.walmartimages.com/asr/e7dcd553-90df...   \n",
       "526           alaffia  https://i5.walmartimages.com/asr/2988c323-cb6f...   \n",
       "2053       gold, bond  https://i5.walmartimages.com/asr/34b610e7-05db...   \n",
       "4716          versace  https://i5.walmartimages.com/asr/edaaeed5-9da0...   \n",
       "2058         goldwell  https://i5.walmartimages.com/asr/3bf90289-6980...   \n",
       "3842       red, devil  https://i5.walmartimages.com/asr/60bfe5ba-774c...   \n",
       "510         air, wick  https://i5.walmartimages.com/asr/0fac65b2-c6aa...   \n",
       "3841  bain, de, terre  https://i5.walmartimages.com/asr/fcdb4d2e-3727...   \n",
       "2687        long, aid  https://i5.walmartimages.com/asr/f7f29199-bfa5...   \n",
       "2062         diversey  https://i5.walmartimages.com/asr/025a7068-7bb1...   \n",
       "\n",
       "      Rating  \n",
       "1686     5.0  \n",
       "526      5.0  \n",
       "2053     5.0  \n",
       "4716     5.0  \n",
       "2058     5.0  \n",
       "3842     5.0  \n",
       "510      5.0  \n",
       "3841     5.0  \n",
       "2687     5.0  \n",
       "2062     5.0  "
      ]
     },
     "execution_count": 38,
     "metadata": {},
     "output_type": "execute_result"
    }
   ],
   "source": [
    "rating_base_recommendation = top_rated_items.head(10) #top10 items\n",
    "\n",
    "rating_base_recommendation"
   ]
  },
  {
   "cell_type": "code",
   "execution_count": 40,
   "id": "b772b21d-698a-4560-a4a3-27175560761c",
   "metadata": {},
   "outputs": [
    {
     "name": "stderr",
     "output_type": "stream",
     "text": [
      "C:\\Users\\oknol\\AppData\\Local\\Temp\\ipykernel_5784\\565725879.py:1: SettingWithCopyWarning: \n",
      "A value is trying to be set on a copy of a slice from a DataFrame.\n",
      "Try using .loc[row_indexer,col_indexer] = value instead\n",
      "\n",
      "See the caveats in the documentation: https://pandas.pydata.org/pandas-docs/stable/user_guide/indexing.html#returning-a-view-versus-a-copy\n",
      "  rating_base_recommendation['Rating'] = rating_base_recommendation['Rating'].astype(int)\n",
      "C:\\Users\\oknol\\AppData\\Local\\Temp\\ipykernel_5784\\565725879.py:2: SettingWithCopyWarning: \n",
      "A value is trying to be set on a copy of a slice from a DataFrame.\n",
      "Try using .loc[row_indexer,col_indexer] = value instead\n",
      "\n",
      "See the caveats in the documentation: https://pandas.pydata.org/pandas-docs/stable/user_guide/indexing.html#returning-a-view-versus-a-copy\n",
      "  rating_base_recommendation['ReviewCount'] = rating_base_recommendation['ReviewCount'].astype(int)\n"
     ]
    }
   ],
   "source": [
    "rating_base_recommendation['Rating'] = rating_base_recommendation['Rating'].astype(int)\n",
    "rating_base_recommendation['ReviewCount'] = rating_base_recommendation['ReviewCount'].astype(int)"
   ]
  },
  {
   "cell_type": "code",
   "execution_count": 42,
   "id": "9e6c3527-964d-46af-94f7-3534a1f17c89",
   "metadata": {},
   "outputs": [
    {
     "name": "stdout",
     "output_type": "stream",
     "text": [
      "Rating Base Recommendation System: (Trending Products)\n"
     ]
    },
    {
     "name": "stderr",
     "output_type": "stream",
     "text": [
      "C:\\Users\\oknol\\AppData\\Local\\Temp\\ipykernel_5784\\393183274.py:2: SettingWithCopyWarning: \n",
      "A value is trying to be set on a copy of a slice from a DataFrame.\n",
      "Try using .loc[row_indexer,col_indexer] = value instead\n",
      "\n",
      "See the caveats in the documentation: https://pandas.pydata.org/pandas-docs/stable/user_guide/indexing.html#returning-a-view-versus-a-copy\n",
      "  rating_base_recommendation[['Name','Rating','ReviewCount','Brand','ImageURL']] = rating_base_recommendation[['Name','Rating','ReviewCount','Brand','ImageURL']]\n"
     ]
    },
    {
     "data": {
      "text/html": [
       "<div>\n",
       "<style scoped>\n",
       "    .dataframe tbody tr th:only-of-type {\n",
       "        vertical-align: middle;\n",
       "    }\n",
       "\n",
       "    .dataframe tbody tr th {\n",
       "        vertical-align: top;\n",
       "    }\n",
       "\n",
       "    .dataframe thead th {\n",
       "        text-align: right;\n",
       "    }\n",
       "</style>\n",
       "<table border=\"1\" class=\"dataframe\">\n",
       "  <thead>\n",
       "    <tr style=\"text-align: right;\">\n",
       "      <th></th>\n",
       "      <th>Name</th>\n",
       "      <th>ReviewCount</th>\n",
       "      <th>Brand</th>\n",
       "      <th>ImageURL</th>\n",
       "      <th>Rating</th>\n",
       "    </tr>\n",
       "  </thead>\n",
       "  <tbody>\n",
       "    <tr>\n",
       "      <th>1686</th>\n",
       "      <td>Electric Shaver, Triple Shaving Time Electric ...</td>\n",
       "      <td>4</td>\n",
       "      <td>moosoo</td>\n",
       "      <td>https://i5.walmartimages.com/asr/e7dcd553-90df...</td>\n",
       "      <td>5</td>\n",
       "    </tr>\n",
       "    <tr>\n",
       "      <th>526</th>\n",
       "      <td>Alaffia Body Lotion, Vanilla, 32 Oz</td>\n",
       "      <td>2</td>\n",
       "      <td>alaffia</td>\n",
       "      <td>https://i5.walmartimages.com/asr/2988c323-cb6f...</td>\n",
       "      <td>5</td>\n",
       "    </tr>\n",
       "    <tr>\n",
       "      <th>2053</th>\n",
       "      <td>Gold Bond Ultimate Ultimate Healing Lotion, Al...</td>\n",
       "      <td>2</td>\n",
       "      <td>gold, bond</td>\n",
       "      <td>https://i5.walmartimages.com/asr/34b610e7-05db...</td>\n",
       "      <td>5</td>\n",
       "    </tr>\n",
       "    <tr>\n",
       "      <th>4716</th>\n",
       "      <td>Versace Man Eau Fraiche Eau De Toilette Spray,...</td>\n",
       "      <td>24</td>\n",
       "      <td>versace</td>\n",
       "      <td>https://i5.walmartimages.com/asr/edaaeed5-9da0...</td>\n",
       "      <td>5</td>\n",
       "    </tr>\n",
       "    <tr>\n",
       "      <th>2058</th>\n",
       "      <td>Goldwell StyleSign 1 Flat Marvel Straightening...</td>\n",
       "      <td>2</td>\n",
       "      <td>goldwell</td>\n",
       "      <td>https://i5.walmartimages.com/asr/3bf90289-6980...</td>\n",
       "      <td>5</td>\n",
       "    </tr>\n",
       "    <tr>\n",
       "      <th>3842</th>\n",
       "      <td>Red Devil 0322 Steel Wool # 00 Very Fine, 8 Pa...</td>\n",
       "      <td>1</td>\n",
       "      <td>red, devil</td>\n",
       "      <td>https://i5.walmartimages.com/asr/60bfe5ba-774c...</td>\n",
       "      <td>5</td>\n",
       "    </tr>\n",
       "    <tr>\n",
       "      <th>510</th>\n",
       "      <td>Air Wick Plug in Starter Kit, Warmer + 1 Refil...</td>\n",
       "      <td>1</td>\n",
       "      <td>air, wick</td>\n",
       "      <td>https://i5.walmartimages.com/asr/0fac65b2-c6aa...</td>\n",
       "      <td>5</td>\n",
       "    </tr>\n",
       "    <tr>\n",
       "      <th>3841</th>\n",
       "      <td>Recovery Complex Anti-Frizz Shine Serum by Bai...</td>\n",
       "      <td>4</td>\n",
       "      <td>bain, de, terre</td>\n",
       "      <td>https://i5.walmartimages.com/asr/fcdb4d2e-3727...</td>\n",
       "      <td>5</td>\n",
       "    </tr>\n",
       "    <tr>\n",
       "      <th>2687</th>\n",
       "      <td>Long Aid Extra Dry Formula Curl Activator Gel ...</td>\n",
       "      <td>12</td>\n",
       "      <td>long, aid</td>\n",
       "      <td>https://i5.walmartimages.com/asr/f7f29199-bfa5...</td>\n",
       "      <td>5</td>\n",
       "    </tr>\n",
       "    <tr>\n",
       "      <th>2062</th>\n",
       "      <td>Good Sense 60-Day Air Care System, Citrus, 2 o...</td>\n",
       "      <td>1</td>\n",
       "      <td>diversey</td>\n",
       "      <td>https://i5.walmartimages.com/asr/025a7068-7bb1...</td>\n",
       "      <td>5</td>\n",
       "    </tr>\n",
       "  </tbody>\n",
       "</table>\n",
       "</div>"
      ],
      "text/plain": [
       "                                                   Name  ReviewCount  \\\n",
       "1686  Electric Shaver, Triple Shaving Time Electric ...            4   \n",
       "526                 Alaffia Body Lotion, Vanilla, 32 Oz            2   \n",
       "2053  Gold Bond Ultimate Ultimate Healing Lotion, Al...            2   \n",
       "4716  Versace Man Eau Fraiche Eau De Toilette Spray,...           24   \n",
       "2058  Goldwell StyleSign 1 Flat Marvel Straightening...            2   \n",
       "3842  Red Devil 0322 Steel Wool # 00 Very Fine, 8 Pa...            1   \n",
       "510   Air Wick Plug in Starter Kit, Warmer + 1 Refil...            1   \n",
       "3841  Recovery Complex Anti-Frizz Shine Serum by Bai...            4   \n",
       "2687  Long Aid Extra Dry Formula Curl Activator Gel ...           12   \n",
       "2062  Good Sense 60-Day Air Care System, Citrus, 2 o...            1   \n",
       "\n",
       "                Brand                                           ImageURL  \\\n",
       "1686           moosoo  https://i5.walmartimages.com/asr/e7dcd553-90df...   \n",
       "526           alaffia  https://i5.walmartimages.com/asr/2988c323-cb6f...   \n",
       "2053       gold, bond  https://i5.walmartimages.com/asr/34b610e7-05db...   \n",
       "4716          versace  https://i5.walmartimages.com/asr/edaaeed5-9da0...   \n",
       "2058         goldwell  https://i5.walmartimages.com/asr/3bf90289-6980...   \n",
       "3842       red, devil  https://i5.walmartimages.com/asr/60bfe5ba-774c...   \n",
       "510         air, wick  https://i5.walmartimages.com/asr/0fac65b2-c6aa...   \n",
       "3841  bain, de, terre  https://i5.walmartimages.com/asr/fcdb4d2e-3727...   \n",
       "2687        long, aid  https://i5.walmartimages.com/asr/f7f29199-bfa5...   \n",
       "2062         diversey  https://i5.walmartimages.com/asr/025a7068-7bb1...   \n",
       "\n",
       "      Rating  \n",
       "1686       5  \n",
       "526        5  \n",
       "2053       5  \n",
       "4716       5  \n",
       "2058       5  \n",
       "3842       5  \n",
       "510        5  \n",
       "3841       5  \n",
       "2687       5  \n",
       "2062       5  "
      ]
     },
     "execution_count": 42,
     "metadata": {},
     "output_type": "execute_result"
    }
   ],
   "source": [
    "print(\"Rating Base Recommendation System: (Trending Products)\")\n",
    "rating_base_recommendation[['Name','Rating','ReviewCount','Brand','ImageURL']] = rating_base_recommendation[['Name','Rating','ReviewCount','Brand','ImageURL']]\n",
    "rating_base_recommendation"
   ]
  },
  {
   "cell_type": "markdown",
   "id": "e287047b-4c49-4d00-99a9-dc625b0521ed",
   "metadata": {},
   "source": [
    "# Content Base Recommendation system (User Preferences or Items similarities)"
   ]
  },
  {
   "cell_type": "code",
   "execution_count": null,
   "id": "ab51f5d7-0fa4-47c4-bd0f-93abcb1e7681",
   "metadata": {},
   "outputs": [],
   "source": []
  }
 ],
 "metadata": {
  "kernelspec": {
   "display_name": "Python 3 (ipykernel)",
   "language": "python",
   "name": "python3"
  },
  "language_info": {
   "codemirror_mode": {
    "name": "ipython",
    "version": 3
   },
   "file_extension": ".py",
   "mimetype": "text/x-python",
   "name": "python",
   "nbconvert_exporter": "python",
   "pygments_lexer": "ipython3",
   "version": "3.11.5"
  }
 },
 "nbformat": 4,
 "nbformat_minor": 5
}
